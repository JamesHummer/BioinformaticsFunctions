{
 "cells": [
  {
   "cell_type": "code",
   "execution_count": 1,
   "metadata": {},
   "outputs": [],
   "source": [
    "def reverse_comp(sequence):\n",
    "    complement = ''\n",
    "    comp = {\n",
    "        'T': 'A', 'C': 'G', 'A': 'T', 'G': 'C'\n",
    "    }\n",
    "    for nucleotide in sequence:\n",
    "        complement += comp.get(nucleotide, 'N')  # Handle unexpected characters\n",
    "    return complement[::-1]\n",
    "\n",
    "def calculate_tm(sequence):\n",
    "    # Calculate the reverse complement of the sequence\n",
    "    reverse_sequence = reverse_comp(sequence)\n",
    "    \n",
    "    # Count A-T and G-C pairs in the original sequence and reverse complement\n",
    "    at_count = sequence.count('A') + sequence.count('T')\n",
    "    gc_count = sequence.count('G') + sequence.count('C')\n",
    "    \n",
    "    # Estimate Tm using the Wallace rule\n",
    "    tm = 2 * at_count + 4 * gc_count\n",
    "\n",
    "def gc_calc(seq):\n",
    "  count_c = seq.count('C')\n",
    "  count_g = seq.count('G')\n",
    "  count_t = seq.count('T')\n",
    "  count_a = seq.count('A')\n",
    "  return (count_g + count_c) / (count_c + count_g + count_a + count_t)\n",
    "\n",
    "\n",
    "def comp(seq):\n",
    "  chargaff = {'A':'T', 'T':'A', 'G':'C', 'C':'G'}\n",
    "  comp = ' '\n",
    "  for char in seq:\n",
    "    comp = comp + chargaff[char]\n",
    "  return comp[::-1]\n",
    "\n",
    "def primers(seq):\n",
    "  fwd = seq[:10:]\n",
    "  rev = seq[-10:]\n",
    "\n",
    "  return fwd, comp(rev)"
   ]
  },
  {
   "cell_type": "code",
   "execution_count": 1,
   "metadata": {},
   "outputs": [],
   "source": [
    "def dna_to_rna(mysequence):\n",
    "  return mysequence.replace('T','U')"
   ]
  },
  {
   "cell_type": "code",
   "execution_count": null,
   "metadata": {},
   "outputs": [],
   "source": [
    "def mutation_counter(seq1,seq2):\n",
    "  total = 0\n",
    "  for i in range(len(seq1)):\n",
    "    if seq1[i] != seq2[i]:\n",
    "      print(seq1[i],seq2[i])\n",
    "\n",
    "      total += 1\n",
    "      return total\n",
    "  print (total)"
   ]
  }
 ],
 "metadata": {
  "kernelspec": {
   "display_name": "Python 3",
   "language": "python",
   "name": "python3"
  },
  "language_info": {
   "codemirror_mode": {
    "name": "ipython",
    "version": 3
   },
   "file_extension": ".py",
   "mimetype": "text/x-python",
   "name": "python",
   "nbconvert_exporter": "python",
   "pygments_lexer": "ipython3",
   "version": "3.12.8"
  }
 },
 "nbformat": 4,
 "nbformat_minor": 2
}
