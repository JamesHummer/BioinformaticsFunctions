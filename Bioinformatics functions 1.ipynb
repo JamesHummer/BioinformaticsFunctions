{
 "cells": [
  {
   "cell_type": "code",
   "execution_count": 1,
   "metadata": {},
   "outputs": [],
   "source": [
    "def reverse_comp(sequence):\n",
    "    complement = ''\n",
    "    comp = {\n",
    "        'T': 'A', 'C': 'G', 'A': 'T', 'G': 'C'\n",
    "    }\n",
    "    for nucleotide in sequence:\n",
    "        complement += comp.get(nucleotide, 'N')  # Handle unexpected characters\n",
    "    return complement[::-1]\n",
    "\n",
    "def calculate_tm(sequence):\n",
    "    # Calculate the reverse complement of the sequence\n",
    "    reverse_sequence = reverse_comp(sequence)\n",
    "    \n",
    "    # Count A-T and G-C pairs in the original sequence and reverse complement\n",
    "    at_count = sequence.count('A') + sequence.count('T')\n",
    "    gc_count = sequence.count('G') + sequence.count('C')\n",
    "    \n",
    "    # Estimate Tm using the Wallace rule\n",
    "    tm = 2 * at_count + 4 * gc_count\n",
    "\n",
    "def gc_calc(seq):\n",
    "  count_c = seq.count('C')\n",
    "  count_g = seq.count('G')\n",
    "  count_t = seq.count('T')\n",
    "  count_a = seq.count('A')\n",
    "  return (count_g + count_c) / (count_c + count_g + count_a + count_t)\n",
    "\n",
    "\n",
    "def comp(seq):\n",
    "  chargaff = {'A':'T', 'T':'A', 'G':'C', 'C':'G'}\n",
    "  comp = ' '\n",
    "  for char in seq:\n",
    "    comp = comp + chargaff[char]\n",
    "  return comp[::-1]\n",
    "\n",
    "def primers(seq):\n",
    "  fwd = seq[:10:]\n",
    "  rev = seq[-10:]\n",
    "\n",
    "  return fwd, comp(rev)"
   ]
  },
  {
   "cell_type": "code",
   "execution_count": 1,
   "metadata": {},
   "outputs": [],
   "source": [
    "def dna_to_rna(mysequence):\n",
    "  return mysequence.replace('T','U')"
   ]
  },
  {
   "cell_type": "code",
   "execution_count": null,
   "metadata": {},
   "outputs": [],
   "source": [
    "def mutation_counter(seq1,seq2):\n",
    "  total = 0\n",
    "  for i in range(len(seq1)):\n",
    "    if seq1[i] != seq2[i]:\n",
    "      print(seq1[i],seq2[i])\n",
    "\n",
    "      total += 1\n",
    "      return total\n",
    "  print (total)"
   ]
  }
 ],
 "metadata": {
  "kernelspec": {
   "display_name": "Python 3",
   "language": "python",
   "name": "python3"
  },
  "language_info": {
   "codemirror_mode": {
    "name": "ipython",
    "version": 3
   },
   "file_extension": ".py",
   "mimetype": "text/x-python",
   "name": "python",
   "nbconvert_exporter": "python",
   "pygments_lexer": "ipython3",
   "version": "3.12.8"
  }
 },
 "nbformat": 4,
 "nbformat_minor": 2
}


#open reading frame
from Bio.Seq import Seq

def find_orfs(sequence, min_length=100):
    """
    Find all open reading frames (ORFs) in a DNA sequence.

    Parameters:
        sequence (str): DNA sequence (A, T, G, C only).
        min_length (int): Minimum ORF length to report (in nucleotides).

    Returns:
        dict: ORFs found in each reading frame and direction.
    """
    def find_orfs_in_frame(seq, frame):
        """Find ORFs in a single reading frame."""
        orfs = []
        start_codon = "ATG"
        stop_codons = {"TAA", "TAG", "TGA"}
        
        start_pos = None

        # Iterate through codons in the reading frame
        for i in range(frame, len(seq) - 2, 3):
            codon = seq[i:i+3]

            if codon == start_codon and start_pos is None:
                start_pos = i
            elif codon in stop_codons and start_pos is not None:
                # Record the ORF if it meets the minimum length
                if i + 3 - start_pos >= min_length:
                    orfs.append((start_pos, i + 3))
                start_pos = None

        return orfs

    # Ensure sequence is uppercase and handle both strands
    sequence = sequence.upper()
    forward_seq = Seq(sequence)
    reverse_seq = forward_seq.reverse_complement()

    # Find ORFs in all reading frames
    results = {
        "+1": find_orfs_in_frame(forward_seq, 0),
        "+2": find_orfs_in_frame(forward_seq, 1),
        "+3": find_orfs_in_frame(forward_seq, 2),
        "-1": find_orfs_in_frame(reverse_seq, 0),
        "-2": find_orfs_in_frame(reverse_seq, 1),
        "-3": find_orfs_in_frame(reverse_seq, 2)
    }

    # Convert results into a more readable format
    formatted_results = {}
    for frame, orfs in results.items():
        formatted_results[frame] = [
            {
                "start": start + 1,  # Convert to 1-based indexing
                "end": end,
                "length": end - start
            }
            for start, end in orfs
        ]

    return formatted_results


# Print the ORFs
for frame, frame_orfs in orfs.items():
    print(f"Reading Frame {frame}:")
    for orf in frame_orfs:
        print(f"  Start: {orf['start']}, End: {orf['end']}, Length: {orf['length']}")
